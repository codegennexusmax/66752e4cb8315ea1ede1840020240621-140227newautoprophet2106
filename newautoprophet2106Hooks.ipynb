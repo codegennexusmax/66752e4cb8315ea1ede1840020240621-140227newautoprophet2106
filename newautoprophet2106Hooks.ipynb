{
 "cells": [
  {
   "cell_type": "markdown",
   "id": "fcafb724",
   "metadata": {},
   "source": [
    "***EXTENSIONS FOR newautoprophet2106 PIPELINE YOU CAN EDIT THESE EXTENSIONS***"
   ]
  },
  {
   "cell_type": "markdown",
   "id": "1ba66d74",
   "metadata": {},
   "source": [
    "***EXTENSIONS FOR SOURCE STAGE***"
   ]
  },
  {
   "cell_type": "code",
   "execution_count": null,
   "id": "41623dcc",
   "metadata": {},
   "outputs": [],
   "source": [
    "def sourcePreExecutionHook():\n",
    "\tprint('inside source pre execution hook')\n",
    "\n",
    "\n",
    "def sourcePostExecutionHook(data):\n",
    "\tprint('inside source post execution hook')\n",
    "\n",
    "\n"
   ]
  },
  {
   "cell_type": "markdown",
   "id": "d2daceaa",
   "metadata": {},
   "source": [
    "***EXTENSIONS FOR TRANSFORMATION STAGE***"
   ]
  },
  {
   "cell_type": "code",
   "execution_count": null,
   "id": "cbbebe6e",
   "metadata": {},
   "outputs": [],
   "source": [
    "def transformationPreExecutionHook():\n",
    "\tprint('inside transformation pre execution hook')\n",
    "\n",
    "\n",
    "def transformationPostExecutionHook(data):\n",
    "\tprint('inside transformation post execution hook')\n",
    "\n",
    "\n"
   ]
  },
  {
   "cell_type": "markdown",
   "id": "c4c8720a",
   "metadata": {},
   "source": [
    "***EXTENSIONS FOR ML STAGE***"
   ]
  },
  {
   "cell_type": "code",
   "execution_count": null,
   "id": "7ae31e4d",
   "metadata": {},
   "outputs": [],
   "source": [
    "def mlPreExecutionHook():\n",
    "\tprint('inside ml pre execution hook')\n",
    "\n",
    "\n",
    "def mlPostExecutionHook(data):\n",
    "\tprint('inside ml post execution hook')\n",
    "\n",
    "\n"
   ]
  }
 ],
 "metadata": {},
 "nbformat": 4,
 "nbformat_minor": 5
}
